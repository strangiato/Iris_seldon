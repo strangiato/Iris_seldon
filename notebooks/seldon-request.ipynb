{
 "cells": [
  {
   "attachments": {},
   "cell_type": "markdown",
   "id": "74f33ce7",
   "metadata": {},
   "source": [
    "# Iris Machine Learning Requests\n",
    "\n",
    "This notebook performs a simple API call to the ML Service and receives an inference result back.\n",
    "\n",
    "The model is based on the [Iris Dataset](https://en.wikipedia.org/wiki/Iris_flower_data_set) which includes data samples of three species of Iris (Iris setosa, Iris virginica and Iris versicolor). Four features were measured from each sample: the length and the width of the sepals and petals, in centimeters. Based on the combination of these four features, we can predict which species of Iris the flower belongs.\n",
    "\n",
    "| Species | Value |\n",
    "|---------|-------|\n",
    "|Iris-setosa | 0 |\n",
    "|Iris-versicolor | 1 |\n",
    "|Iris-virginica | 2 |"
   ]
  },
  {
   "attachments": {},
   "cell_type": "markdown",
   "id": "2e6c9aa3",
   "metadata": {},
   "source": [
    "### Install Requirements\n",
    "\n",
    "Install requests package if it is not already available"
   ]
  },
  {
   "cell_type": "code",
   "execution_count": null,
   "id": "38286c2f",
   "metadata": {},
   "outputs": [],
   "source": [
    "!pip install requests"
   ]
  },
  {
   "cell_type": "code",
   "execution_count": null,
   "id": "ba2082c7-5f48-4c28-8785-f5e64148d407",
   "metadata": {},
   "outputs": [],
   "source": [
    "import requests\n",
    "import json"
   ]
  },
  {
   "attachments": {},
   "cell_type": "markdown",
   "id": "70f449e8",
   "metadata": {},
   "source": [
    "### Request Helper Functions\n",
    "\n",
    "Load a few helper functions to help interpret the response of the ML Service"
   ]
  },
  {
   "cell_type": "code",
   "execution_count": null,
   "id": "0d653317",
   "metadata": {},
   "outputs": [],
   "source": [
    "def get_iris_classification(response):\n",
    "    response_obj = json.loads(response)\n",
    "    inference_result = response_obj['data']['ndarray'][0]#[0]\n",
    "    \n",
    "    return inference_result\n",
    "\n",
    "def get_iris_species(classification):\n",
    "    if classification == 0:\n",
    "        species = \"Iris-setosa\"\n",
    "    elif classification == 1:\n",
    "        species = \"Iris-versicolor\"\n",
    "    elif classification == 2:\n",
    "        species = \"Iris-virginica\"\n",
    "\n",
    "    return species"
   ]
  },
  {
   "attachments": {},
   "cell_type": "markdown",
   "id": "d7529b16-f4b5-4586-86e6-19bd4d6247e2",
   "metadata": {},
   "source": [
    "## ML Service Request Examples"
   ]
  },
  {
   "attachments": {},
   "cell_type": "markdown",
   "id": "52c0368c",
   "metadata": {},
   "source": [
    "The following contain example requests submitted to the ML Model Service.  Each requests sends the model the data for the four Iris features and the model returns a numeric value representing the result of the species inference."
   ]
  },
  {
   "attachments": {},
   "cell_type": "markdown",
   "id": "67075db9",
   "metadata": {},
   "source": [
    "Construct the URL for the API call and setup other header values needed for the request."
   ]
  },
  {
   "cell_type": "code",
   "execution_count": null,
   "id": "33de6c0d-9ab6-4b4c-8ac4-11e1e9fd56ad",
   "metadata": {},
   "outputs": [],
   "source": [
    "# Example Route URL if connecting outside of the cluster\n",
    "base_url = \"https://seldon-iris-seldon-demo.apps.cluster-kmmjn.kmmjn.sandbox1150.opentlc.com\"\n",
    "\n",
    "# Example service URL when connecting internally on the cluster\n",
    "# base_url = \"http://iris-seldon-example:8000\"\n",
    "predict_url = f\"{base_url}/api/v1.0/predictions\"\n",
    "headers = {'Content-Type': 'application/json'}"
   ]
  },
  {
   "attachments": {},
   "cell_type": "markdown",
   "id": "f1aea33f",
   "metadata": {},
   "source": [
    "#### Request Example #1\n",
    "\n",
    "This request should return a prediction of `0` indicating that this species is `Iris-setosa`."
   ]
  },
  {
   "cell_type": "code",
   "execution_count": null,
   "id": "03eb7f72-91d5-491b-852f-8b93d45dde06",
   "metadata": {},
   "outputs": [],
   "source": [
    "X = [[5,3,1.6,0.2]]\n",
    "columns = ['sepal length', 'sepal width', 'petal length', 'petal width']\n",
    "\n",
    "data_obj = json.dumps({\"data\": { \"names\": columns, \"ndarray\": X}})\n",
    "\n",
    "r = requests.post(predict_url, headers=headers, data=data_obj)\n",
    "\n",
    "classification = get_iris_classification(r.text)\n",
    "species = get_iris_species(classification)\n",
    "\n",
    "print(f\"Classification Prediction: {classification}\")\n",
    "print(f\"Species Prediction: {species}\")\n",
    "print(f\"Http Status Code: {r.status_code}\")\n",
    "print(f\"Raw Json response: {r.text}\")"
   ]
  },
  {
   "attachments": {},
   "cell_type": "markdown",
   "id": "ed7ff039",
   "metadata": {},
   "source": [
    "#### Request Example #2\n",
    "\n",
    "This request should return a prediction of `1` indicating that this species is `Iris-versicolor`."
   ]
  },
  {
   "cell_type": "code",
   "execution_count": null,
   "id": "becbe76f-ba3f-4f61-ba5a-4cb9ded04608",
   "metadata": {},
   "outputs": [],
   "source": [
    "X = [[5,2,3,2.5]]\n",
    "\n",
    "columns = ['sepal length', 'sepal width', 'petal length', 'petal width']\n",
    "\n",
    "data_obj = json.dumps({\"data\": { \"names\": columns, \"ndarray\": X}})\n",
    "\n",
    "r = requests.post(predict_url, headers=headers, data=data_obj)\n",
    "\n",
    "classification = get_iris_classification(r.text)\n",
    "species = get_iris_species(classification)\n",
    "\n",
    "print(f\"Classification Prediction: {classification}\")\n",
    "print(f\"Species Prediction: {species}\")\n",
    "print(f\"Http Status Code: {r.status_code}\")\n",
    "print(f\"Raw Json response: {r.text}\")"
   ]
  },
  {
   "attachments": {},
   "cell_type": "markdown",
   "id": "aee39b5c",
   "metadata": {},
   "source": [
    "#### Request Example #3\n",
    "\n",
    "This request should return a prediction of `2` indicating that this species is `Iris-virginica`."
   ]
  },
  {
   "cell_type": "code",
   "execution_count": null,
   "id": "f80513d3-e2c1-4fe2-ad74-d796f34ae3b2",
   "metadata": {},
   "outputs": [],
   "source": [
    "X = [[7.2,3.6,6.1,2.5]]\n",
    "\n",
    "columns = ['sepal length', 'sepal width', 'petal length', 'petal width']\n",
    "\n",
    "data_obj = json.dumps({\"data\": { \"names\": columns, \"ndarray\": X}})\n",
    "\n",
    "r = requests.post(predict_url, headers=headers, data=data_obj)\n",
    "\n",
    "classification = get_iris_classification(r.text)\n",
    "species = get_iris_species(classification)\n",
    "\n",
    "print(f\"Classification Prediction: {classification}\")\n",
    "print(f\"Species Prediction: {species}\")\n",
    "print(f\"Http Status Code: {r.status_code}\")\n",
    "print(f\"Raw Json response: {r.text}\")"
   ]
  }
 ],
 "metadata": {
  "kernelspec": {
   "display_name": "Python 3",
   "language": "python",
   "name": "python3"
  },
  "language_info": {
   "codemirror_mode": {
    "name": "ipython",
    "version": 3
   },
   "file_extension": ".py",
   "mimetype": "text/x-python",
   "name": "python",
   "nbconvert_exporter": "python",
   "pygments_lexer": "ipython3",
   "version": "3.8.6"
  }
 },
 "nbformat": 4,
 "nbformat_minor": 5
}
